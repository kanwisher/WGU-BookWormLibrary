{
  "cells": [
    {
      "cell_type": "markdown",
      "source": [
        "# Capstone **AI** Book Worm Library\n",
        "**David Kanwisher**"
      ],
      "metadata": {
        "id": "N_OAy0JmpbJ-"
      },
      "id": "N_OAy0JmpbJ-"
    },
    {
      "cell_type": "markdown",
      "source": [
        "## Install dependencies"
      ],
      "metadata": {
        "id": "6Y0B53wno9XC"
      },
      "id": "6Y0B53wno9XC"
    },
    {
      "cell_type": "code",
      "execution_count": null,
      "metadata": {
        "id": "225e134c-6042-417e-ae1d-a1621f61043e"
      },
      "outputs": [],
      "source": [
        "!pip3 install pandas\n",
        "!pip3 install -U scikit-learn\n",
        "!pip3 install nltk\n",
        "!pip3 install matplotlib\n",
        "!pip3 install ipywidgets\n",
        "!pip3 install widgetsnbextension\n",
        "!pip3 install wordcloud"
      ],
      "id": "225e134c-6042-417e-ae1d-a1621f61043e"
    },
    {
      "cell_type": "markdown",
      "source": [
        "## Import functionality from dependencies"
      ],
      "metadata": {
        "id": "TtVbZdZDpPDX"
      },
      "id": "TtVbZdZDpPDX"
    },
    {
      "cell_type": "code",
      "execution_count": null,
      "metadata": {
        "id": "888295ee-7041-45e8-8933-11692bf029c2"
      },
      "outputs": [],
      "source": [
        "from sklearn.feature_extraction.text import TfidfVectorizer\n",
        "from sklearn.cluster import KMeans\n",
        "from nltk.corpus import stopwords\n",
        "from nltk.tokenize import word_tokenize\n",
        "from IPython.core.display import display, HTML, clear_output\n",
        "from wordcloud import WordCloud\n",
        "import pandas as pd\n",
        "import nltk\n",
        "import ipywidgets as widgets\n",
        "import matplotlib.pyplot as plt\n",
        "import ast"
      ],
      "id": "888295ee-7041-45e8-8933-11692bf029c2"
    },
    {
      "cell_type": "markdown",
      "source": [
        "## Download helper data"
      ],
      "metadata": {
        "id": "SvZUvYyxpv3f"
      },
      "id": "SvZUvYyxpv3f"
    },
    {
      "cell_type": "code",
      "execution_count": null,
      "metadata": {
        "id": "kWnHm0diAe4m"
      },
      "outputs": [],
      "source": [
        "nltk.download('punkt') # Sentence tokenization\n",
        "nltk.download('stopwords') # Words that don't contribute to pattern matching"
      ],
      "id": "kWnHm0diAe4m"
    },
    {
      "cell_type": "markdown",
      "source": [
        "## Use a data frame to read the CSV, Clean up data, show table"
      ],
      "metadata": {
        "id": "Nw2yGgzbqBs9"
      },
      "id": "Nw2yGgzbqBs9"
    },
    {
      "cell_type": "code",
      "execution_count": null,
      "metadata": {
        "id": "f204a782-d105-451e-8b2d-4b0c57436ec5"
      },
      "outputs": [],
      "source": [
        "df = pd.read_csv('book-data.csv')\n",
        "df = df.drop('Unnamed: 0', axis=1) # remove a column that is a duplicate of the existing index\n",
        "df.head()"
      ],
      "id": "f204a782-d105-451e-8b2d-4b0c57436ec5"
    },
    {
      "cell_type": "markdown",
      "source": [
        "## A Histogram to show the distribution of books by their rating\n",
        "Visual 1 of 3\n",
        "\n"
      ],
      "metadata": {
        "id": "Qxq6JAUNqQZX"
      },
      "id": "Qxq6JAUNqQZX"
    },
    {
      "cell_type": "code",
      "execution_count": null,
      "metadata": {
        "id": "9bdUOhZYC4ma"
      },
      "outputs": [],
      "source": [
        "plt.hist(df['Avg_Rating'], bins=100, edgecolor='black')\n",
        "plt.xlabel('Average Rating')\n",
        "plt.ylabel('Book Count')\n",
        "plt.title('Distribution of Books by Average Rating')\n",
        "plt.show()"
      ],
      "id": "9bdUOhZYC4ma"
    },
    {
      "cell_type": "markdown",
      "source": [
        "## Create a method to tokenize the description text, save only words that are not stop words"
      ],
      "metadata": {
        "id": "9vtutwFrqr0b"
      },
      "id": "9vtutwFrqr0b"
    },
    {
      "cell_type": "code",
      "execution_count": null,
      "metadata": {
        "id": "3bced39b-56bf-443e-bd42-01f0b51a8b5b"
      },
      "outputs": [],
      "source": [
        "def preprocess_text(text):\n",
        "    tokens = word_tokenize(text)\n",
        "    tokens = [word.lower() for word in tokens]\n",
        "    words = [word for word in tokens if word.isalpha()]\n",
        "    stop_words = set(stopwords.words('english'))\n",
        "    words = [w for w in words if not w in stop_words]\n",
        "    return ' '.join(words)"
      ],
      "id": "3bced39b-56bf-443e-bd42-01f0b51a8b5b"
    },
    {
      "cell_type": "markdown",
      "source": [
        "## Create a new column that is the processed/tokenized description"
      ],
      "metadata": {
        "id": "FEHM1pH0q_iw"
      },
      "id": "FEHM1pH0q_iw"
    },
    {
      "cell_type": "code",
      "execution_count": null,
      "metadata": {
        "id": "Beqw2fpo_sA3"
      },
      "outputs": [],
      "source": [
        "# Apply the preprocessing to each description\n",
        "df['Tokenized_Description'] = df['Description'].astype('str').apply(preprocess_text)\n",
        "\n",
        "df.head()"
      ],
      "id": "Beqw2fpo_sA3"
    },
    {
      "cell_type": "markdown",
      "source": [
        "## Use KMeans to cluster data based on the tokenized description, save the results to a \"Cluster\" column"
      ],
      "metadata": {
        "id": "2Eyb8Lc8rPM-"
      },
      "id": "2Eyb8Lc8rPM-"
    },
    {
      "cell_type": "code",
      "execution_count": null,
      "metadata": {
        "id": "9e02e4ef"
      },
      "outputs": [],
      "source": [
        "transformed = TfidfVectorizer().fit_transform(df['Tokenized_Description'])\n",
        "# Number of clusters has been lowered to speed up processing time for evaluation\n",
        "k = 5\n",
        "\n",
        "kmeans = KMeans(n_clusters=k, random_state=41, n_init=10).fit(transformed)\n",
        "\n",
        "df['Cluster'] = kmeans.labels_"
      ],
      "id": "9e02e4ef"
    },
    {
      "cell_type": "markdown",
      "source": [
        "## Barcharts of the 3 largest clusters with the top 10 genres found in each cluster\n",
        "Visual 2 of 3"
      ],
      "metadata": {
        "id": "YEDkNKWBroCs"
      },
      "id": "YEDkNKWBroCs"
    },
    {
      "cell_type": "code",
      "execution_count": null,
      "metadata": {
        "id": "USOSeXOoCxBT"
      },
      "outputs": [],
      "source": [
        "\n",
        "df['Literal_Genres'] = df['Genres'].apply(ast.literal_eval)\n",
        "df_exploded = df.explode('Literal_Genres')\n",
        "genre_counts_by_cluster = df_exploded.groupby('Cluster')['Literal_Genres'].value_counts()\n",
        "\n",
        "# Identify the top three largest clusters\n",
        "largest_clusters = df['Cluster'].value_counts().nlargest(3).index\n",
        "\n",
        "# Plot the top 10 genres for each cluster\n",
        "fig, axes = plt.subplots(1, 3, figsize=(15, 5), sharey=True)\n",
        "\n",
        "for i, cluster in enumerate(largest_clusters):\n",
        "    top_genres = genre_counts_by_cluster[cluster].head(10)\n",
        "    top_genres.plot(kind='bar', ax=axes[i])\n",
        "    axes[i].set_title(f'Top 10 Genres in Cluster #{cluster} of {k}')\n",
        "    axes[i].set_xlabel('Genre')\n",
        "    axes[i].set_ylabel('Number of Books')\n",
        "\n",
        "plt.tight_layout()\n",
        "plt.show()\n",
        "\n"
      ],
      "id": "USOSeXOoCxBT"
    },
    {
      "cell_type": "markdown",
      "source": [
        "## Create instances of the widgets and the logic to render (and re-render) the users query. Includes error handling. Uses a combo box to offer suggestions while typing."
      ],
      "metadata": {
        "id": "8PbIqPenr2iS"
      },
      "id": "8PbIqPenr2iS"
    },
    {
      "cell_type": "markdown",
      "source": [
        "## Runs the application (interactive UI)\n",
        "\n",
        "\n",
        "*   Type in a book and look for a match in the suggestions\n",
        "*   Click Search\n",
        "*   Top 5 results will show, ordered by average review\n",
        "*   New books can be searched and new results will be displayed\n",
        "\n"
      ],
      "metadata": {
        "id": "LtsfBlFnsJoO"
      },
      "id": "LtsfBlFnsJoO"
    },
    {
      "cell_type": "code",
      "execution_count": null,
      "metadata": {
        "id": "15446927-eaf3-4263-859d-fbbbc874d991"
      },
      "outputs": [],
      "source": [
        "combo_box = widgets.Combobox(options=df['Book'].tolist(), placeholder=\"Enter a book title\")\n",
        "button = widgets.Button(description=\"Search\")\n",
        "button.on_click(lambda x: get_cluster(combo_box.value))\n",
        "result = pd.DataFrame() # initialize as an empty data frame\n",
        "\n",
        "output = widgets.Output()\n",
        "def renderSearch():\n",
        "  display(HTML('<h1>Book Worm Public Library Recommendation Search</h1>'))\n",
        "  display(combo_box)\n",
        "  display(button, output)\n",
        "\n",
        "def get_cluster(combo_value):\n",
        "  # provide a friendly message if user provides no data at all\n",
        "  if not combo_value:\n",
        "    print('You must enter a book title to continue.')\n",
        "    return None\n",
        "  else:\n",
        "    book = df.loc[df['Book'] == combo_box.value]\n",
        "    # provide a friendly message if the text the user provided is not a part of the book list\n",
        "    if book.empty:\n",
        "      print(f\"No book was found by the name '{combo_value}', you must select a match from the search results.\")\n",
        "      return None\n",
        "    else:\n",
        "      global result\n",
        "      cluster_num = book.Cluster.item()\n",
        "      cluster = df.loc[(df['Cluster'] == cluster_num) & (df.index != book.index.item())]\n",
        "      result = cluster.sample(5).sort_values(by='Avg_Rating', ascending=False)\n",
        "      formatted_result = result[['Book', 'Author', 'Description', 'Genres', 'Avg_Rating',]]\n",
        "      with output:\n",
        "          clear_output(True)\n",
        "          display(HTML('<br/><h2>Recommendations for ' + combo_box.value + ':</h2>'))\n",
        "          display(formatted_result.rename(columns={'Avg_Rating': 'Average Rating'}))\n",
        "\n",
        "renderSearch()\n"
      ],
      "id": "15446927-eaf3-4263-859d-fbbbc874d991"
    },
    {
      "cell_type": "markdown",
      "source": [
        "## Create a word cloud based on the given recommendations\n",
        "Visualization 3 of 3"
      ],
      "metadata": {
        "id": "AqamJpcpsWsO"
      },
      "id": "AqamJpcpsWsO"
    },
    {
      "cell_type": "code",
      "execution_count": null,
      "metadata": {
        "id": "ItENZkQCB4hJ"
      },
      "outputs": [],
      "source": [
        "if not result.empty:\n",
        "  concatenated_descriptions = ' '.join(result['Tokenized_Description'])\n",
        "  wordcloud = WordCloud(width=800, height=400, background_color='white').generate(concatenated_descriptions)\n",
        "  plt.figure(figsize=(12, 8))\n",
        "  plt.imshow(wordcloud, interpolation='bilinear')\n",
        "  plt.axis('off')\n",
        "  plt.title('Word Frequency in Recommended Books')\n",
        "  plt.show()\n",
        "else: print('A query in the previous step is required to display the word cloud')"
      ],
      "id": "ItENZkQCB4hJ"
    }
  ],
  "metadata": {
    "colab": {
      "provenance": [],
      "collapsed_sections": [
        "2Eyb8Lc8rPM-",
        "YEDkNKWBroCs"
      ],
      "history_visible": true
    },
    "kernelspec": {
      "display_name": "Python 3 (ipykernel)",
      "language": "python",
      "name": "python3"
    },
    "language_info": {
      "codemirror_mode": {
        "name": "ipython",
        "version": 3
      },
      "file_extension": ".py",
      "mimetype": "text/x-python",
      "name": "python",
      "nbconvert_exporter": "python",
      "pygments_lexer": "ipython3",
      "version": "3.11.3"
    }
  },
  "nbformat": 4,
  "nbformat_minor": 5
}